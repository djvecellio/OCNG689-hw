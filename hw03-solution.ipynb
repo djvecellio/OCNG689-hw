{
 "cells": [
  {
   "cell_type": "markdown",
   "metadata": {},
   "source": [
    "# Dan Vecellio\n",
    "\n",
    "## Homework 03\n",
    "\n",
    "### Due Tuesday, February 16th"
   ]
  },
  {
   "cell_type": "code",
   "execution_count": 140,
   "metadata": {
    "collapsed": true
   },
   "outputs": [],
   "source": [
    "import numpy as np\n",
    "import time"
   ]
  },
  {
   "cell_type": "markdown",
   "metadata": {},
   "source": [
    "### 1. Vector manipulation\n",
    "\n",
    "Create a vector of zeros of size 10 but have the fifth value be 1."
   ]
  },
  {
   "cell_type": "code",
   "execution_count": 141,
   "metadata": {
    "collapsed": false
   },
   "outputs": [
    {
     "data": {
      "text/plain": [
       "array([ 0.,  0.,  0.,  0.,  1.,  0.,  0.,  0.,  0.,  0.])"
      ]
     },
     "execution_count": 141,
     "metadata": {},
     "output_type": "execute_result"
    }
   ],
   "source": [
    "arr1 = np.zeros(10)\n",
    "arr1[4] = 1\n",
    "arr1"
   ]
  },
  {
   "cell_type": "markdown",
   "metadata": {},
   "source": [
    "### 2. Vector range\n",
    "\n",
    "Create a vector with values ranging from 10 to 49, inclusive."
   ]
  },
  {
   "cell_type": "code",
   "execution_count": 142,
   "metadata": {
    "collapsed": false
   },
   "outputs": [
    {
     "data": {
      "text/plain": [
       "array([10, 11, 12, 13, 14, 15, 16, 17, 18, 19, 20, 21, 22, 23, 24, 25, 26,\n",
       "       27, 28, 29, 30, 31, 32, 33, 34, 35, 36, 37, 38, 39, 40, 41, 42, 43,\n",
       "       44, 45, 46, 47, 48, 49])"
      ]
     },
     "execution_count": 142,
     "metadata": {},
     "output_type": "execute_result"
    }
   ],
   "source": [
    "arr2 = np.arange(10,50)\n",
    "arr2"
   ]
  },
  {
   "cell_type": "markdown",
   "metadata": {},
   "source": [
    "### 3. Reverse a vector\n",
    "\n",
    "Write a function, `reverse(x)` which reverses a vector, so that the first element becomes the last element. The API should be\n",
    "\n",
    "    return a 1D vector with the elements reversed\n",
    "    \n",
    "    Input\n",
    "    -----\n",
    "        x: 1D array\n",
    "    \n",
    "    Output\n",
    "    ------\n",
    "        res: 1D array, with the elements of `x` reversed\n",
    "\n",
    "Include this (or an equivalent description) in the function's docstring."
   ]
  },
  {
   "cell_type": "code",
   "execution_count": 143,
   "metadata": {
    "collapsed": true
   },
   "outputs": [],
   "source": [
    "def reverse(x):\n",
    "    '''return a 1D vector with the elements reversed\n",
    "\n",
    "       Input - x: 1D array\n",
    "       Output - res: 1D array, with the elements of `x` reversed'''\n",
    "    res = []\n",
    "    for a in range(len(x)-1,-1,-1):\n",
    "        res = np.append(res, x[a])\n",
    "    \n",
    "        \n",
    "    return res"
   ]
  },
  {
   "cell_type": "code",
   "execution_count": 144,
   "metadata": {
    "collapsed": false
   },
   "outputs": [
    {
     "data": {
      "text/plain": [
       "array([ 11.,  10.,   9.,   8.,   7.,   6.,   5.,   4.])"
      ]
     },
     "execution_count": 144,
     "metadata": {},
     "output_type": "execute_result"
    }
   ],
   "source": [
    "arr3 = np.arange(4,12)\n",
    "reverse(arr3)"
   ]
  },
  {
   "cell_type": "markdown",
   "metadata": {},
   "source": [
    "### 4. Find indices of non-zero elements\n",
    "\n",
    "Write a function `find_nonzero(x)` that finds the indices of non-zero elements, with an API like\n",
    "\n",
    "    return the indices of non-zero elements of an array.\n",
    "\n",
    "    Input:      x:  array\n",
    "    Output:     indices: array of integer indices\n",
    "\n",
    "Use the function to get out the non-zero elements from an array containing the elements [1,2,0,0,4,0]."
   ]
  },
  {
   "cell_type": "code",
   "execution_count": 145,
   "metadata": {
    "collapsed": true
   },
   "outputs": [],
   "source": [
    "def find_nonzero(x):\n",
    "    '''return the indices of non-zero elements of an array.\n",
    "\n",
    "        Input:      x:  array\n",
    "        Output:     indices: array of integer indices'''\n",
    "    \n",
    "    indices = []\n",
    "    for a in range(len(x)):\n",
    "        if x[a] != 0:\n",
    "            indices = np.append(indices, a)\n",
    "        else:\n",
    "            continue\n",
    "            \n",
    "    return indices"
   ]
  },
  {
   "cell_type": "code",
   "execution_count": 146,
   "metadata": {
    "collapsed": false
   },
   "outputs": [
    {
     "data": {
      "text/plain": [
       "array([ 0.,  1.,  4.])"
      ]
     },
     "execution_count": 146,
     "metadata": {},
     "output_type": "execute_result"
    }
   ],
   "source": [
    "arr4 = np.array([1,2,0,0,4,0])\n",
    "find_nonzero(arr4)"
   ]
  },
  {
   "cell_type": "markdown",
   "metadata": {},
   "source": [
    "### 5. Array with random values\n",
    "\n",
    "Create a 3x3x3 array with normally distributed ($\\mu =0, \\sigma=1)$ random values."
   ]
  },
  {
   "cell_type": "code",
   "execution_count": 147,
   "metadata": {
    "collapsed": false
   },
   "outputs": [
    {
     "data": {
      "text/plain": [
       "array([[[-0.51215698,  1.15331563, -1.07836103],\n",
       "        [ 0.43836685,  0.43474861,  0.42902057],\n",
       "        [-0.7674814 , -0.57061072, -0.29051025]],\n",
       "\n",
       "       [[ 0.26420046, -1.07826664,  0.64595417],\n",
       "        [ 0.22298757, -0.05568719,  0.01918507],\n",
       "        [ 0.88939006,  0.51712943,  1.49660678]],\n",
       "\n",
       "       [[ 1.57619822, -0.45898277, -0.78905183],\n",
       "        [ 1.41119794,  0.57456456,  0.07804189],\n",
       "        [-0.16278068,  0.31327876,  0.20625849]]])"
      ]
     },
     "execution_count": 147,
     "metadata": {},
     "output_type": "execute_result"
    }
   ],
   "source": [
    "arr5 = np.random.normal(0,1,(3,3,3))\n",
    "arr5"
   ]
  },
  {
   "cell_type": "markdown",
   "metadata": {},
   "source": [
    "### 6. Operations on an array with random values\n",
    "\n",
    "Create a 10x10 array with random values. Find \n",
    "- the minimum value of the 2nd row\n",
    "- the maximum value of the 4th column"
   ]
  },
  {
   "cell_type": "code",
   "execution_count": 148,
   "metadata": {
    "collapsed": false
   },
   "outputs": [
    {
     "name": "stdout",
     "output_type": "stream",
     "text": [
      "[[ 0.62052756  0.78036422  0.18845607  0.13001829  0.35749151  0.38922685\n",
      "   0.94430334  0.2272608   0.37656844  0.17247208]\n",
      " [ 0.66628007  0.74244419  0.02369927  0.6825451   0.06089785  0.15833848\n",
      "   0.55378226  0.90657025  0.11349438  0.52603183]\n",
      " [ 0.892566    0.35264494  0.45807118  0.42819073  0.59006122  0.04962296\n",
      "   0.42975256  0.660596    0.29994001  0.14677581]\n",
      " [ 0.86973994  0.68923738  0.75885799  0.31992235  0.27324637  0.97304946\n",
      "   0.14774655  0.27895172  0.2363715   0.74324752]\n",
      " [ 0.88146157  0.8546808   0.43012986  0.20197611  0.86843059  0.65919256\n",
      "   0.8773421   0.6461318   0.01944698  0.32253794]\n",
      " [ 0.8126491   0.80318577  0.82301549  0.6052388   0.9916883   0.78487515\n",
      "   0.89175996  0.36387538  0.32638996  0.66332313]\n",
      " [ 0.70843483  0.53321632  0.23852196  0.76030836  0.77178709  0.46064342\n",
      "   0.13026655  0.7691428   0.68394656  0.01197937]\n",
      " [ 0.70092073  0.72814816  0.15170403  0.43893543  0.696162    0.23722425\n",
      "   0.56565196  0.44900118  0.88485854  0.30629435]\n",
      " [ 0.40611273  0.6240454   0.31543293  0.70796024  0.23716607  0.23370877\n",
      "   0.25930139  0.53089504  0.24679529  0.9947164 ]\n",
      " [ 0.6273341   0.30530127  0.82918203  0.41803467  0.24460425  0.81345355\n",
      "   0.69728987  0.26065246  0.87836672  0.32205141]]\n",
      "The minimum value of the 2nd row is 0.0236992704778\n",
      "The maximum value of the 4th column is 0.760308356288\n"
     ]
    }
   ],
   "source": [
    "arr6 = np.random.rand(10,10)\n",
    "arr6_min = np.min(arr6[1,:])\n",
    "arr6_max = np.max(arr6[:,3])\n",
    "\n",
    "print arr6\n",
    "print \"The minimum value of the 2nd row is \"+str(arr6_min)+''\n",
    "print \"The maximum value of the 4th column is \"+str(arr6_max)+''"
   ]
  },
  {
   "cell_type": "markdown",
   "metadata": {},
   "source": [
    "### 7. Vector without end points\n",
    "\n",
    "Create a vector of size 10 with values ranging from 0 to 1, both excluded."
   ]
  },
  {
   "cell_type": "code",
   "execution_count": 149,
   "metadata": {
    "collapsed": false
   },
   "outputs": [
    {
     "data": {
      "text/plain": [
       "array([ 0.09090909,  0.18181818,  0.27272727,  0.36363636,  0.45454545,\n",
       "        0.54545455,  0.63636364,  0.72727273,  0.81818182,  0.90909091])"
      ]
     },
     "execution_count": 149,
     "metadata": {},
     "output_type": "execute_result"
    }
   ],
   "source": [
    "arr7 = np.linspace(0,1,12)[1:-1]\n",
    "arr7"
   ]
  },
  {
   "cell_type": "markdown",
   "metadata": {},
   "source": [
    "### 8. Sorted random vector\n",
    "\n",
    "Create a random vector of size 10, then sort it."
   ]
  },
  {
   "cell_type": "code",
   "execution_count": 150,
   "metadata": {
    "collapsed": false
   },
   "outputs": [
    {
     "data": {
      "text/plain": [
       "array([ 0.03463501,  0.12561147,  0.13209528,  0.17788522,  0.30259708,\n",
       "        0.3756265 ,  0.59841872,  0.8566117 ,  0.90399545,  0.94538083])"
      ]
     },
     "execution_count": 150,
     "metadata": {},
     "output_type": "execute_result"
    }
   ],
   "source": [
    "arr8 = np.sort(np.random.rand(10))\n",
    "arr8"
   ]
  },
  {
   "cell_type": "markdown",
   "metadata": {},
   "source": [
    "### 9. Test for array equality\n",
    "\n",
    "Write a function `is_equal(A, B)` that compare two arrays `A` and `B` and checks to see if they are equal. \n",
    "\n",
    "    return True if two arrays are the same shape and all the elements are equal.\n",
    "    \n",
    "    Inputs:\n",
    "        A, B:  array\n",
    "    Output:\n",
    "        Bool:  True if A and B have the same shape and identical elements.\n",
    "\n",
    "The arrays count as equal if they are the same shape and all elements in the array are equal."
   ]
  },
  {
   "cell_type": "code",
   "execution_count": 151,
   "metadata": {
    "collapsed": true
   },
   "outputs": [],
   "source": [
    "def is_equal(A, B):\n",
    "    '''return True if two arrays are the same shape and all the elements are equal.\n",
    "\n",
    "    Inputs - A, B:  array\n",
    "    Output - Bool:  True if A and B have the same shape and identical elements.'''\n",
    "    \n",
    "    if A.shape != B.shape:\n",
    "        return False\n",
    "    return bool(np.asarray(A == B).all())"
   ]
  },
  {
   "cell_type": "code",
   "execution_count": 152,
   "metadata": {
    "collapsed": false
   },
   "outputs": [
    {
     "data": {
      "text/plain": [
       "False"
      ]
     },
     "execution_count": 152,
     "metadata": {},
     "output_type": "execute_result"
    }
   ],
   "source": [
    "arr9_1 = np.array([5,4,3])\n",
    "arr9_2 = np.random.rand(5)\n",
    "arr9_3 = arr9_2.copy()\n",
    "is_equal(arr9_1,arr9_2)"
   ]
  },
  {
   "cell_type": "markdown",
   "metadata": {},
   "source": [
    "### 10. Subtract the row mean from rows of a matrix\n",
    "\n",
    "Create a matrix. Then subtract the mean of each row of the matrix from the respective row. Do this without using a loop (that is, using array operations)."
   ]
  },
  {
   "cell_type": "code",
   "execution_count": 153,
   "metadata": {
    "collapsed": false
   },
   "outputs": [
    {
     "name": "stdout",
     "output_type": "stream",
     "text": [
      "(4, 5)\n",
      "(4, 1)\n",
      "[[-0.2800142   0.11926155  0.63297859 -0.29825315 -0.17397279]\n",
      " [-0.40552247  0.15520666  0.25566035  0.41897572 -0.42432026]\n",
      " [ 0.27314857  0.26322512 -0.09854138 -0.30014977 -0.13768254]\n",
      " [ 0.29332065 -0.45500018  0.17739832 -0.17624753  0.16052874]]\n"
     ]
    }
   ],
   "source": [
    "arr10 = np.random.rand(4,5)\n",
    "arr10_anom = arr10 - arr10.mean(axis=1)[:,np.newaxis]\n",
    "print arr10.shape\n",
    "print arr10.mean(axis=1)[:,np.newaxis].shape\n",
    "print arr10_anom"
   ]
  },
  {
   "cell_type": "markdown",
   "metadata": {},
   "source": [
    "### 11. Multiply arrays\n",
    "\n",
    "Multiply an array of dimension (5,5,3) with an array with dimensions (5,5). Then multiply an array of dimension (3,5,5) with an array of dimension (5,5)."
   ]
  },
  {
   "cell_type": "code",
   "execution_count": 154,
   "metadata": {
    "collapsed": false
   },
   "outputs": [
    {
     "data": {
      "text/plain": [
       "(array([[[  4.22660504e-01,   2.10034254e-01,   4.74708790e-01],\n",
       "         [  4.49413682e-02,   2.99603862e-03,   1.96380058e-02],\n",
       "         [  4.74469661e-01,   5.75928727e-01,   3.23684426e-01],\n",
       "         [  3.34815624e-02,   4.81154292e-02,   1.81101769e-02],\n",
       "         [  2.12347442e-01,   1.69381734e-01,   4.22693916e-02]],\n",
       " \n",
       "        [[  7.43382491e-02,   7.78839593e-02,   2.84924449e-02],\n",
       "         [  6.11984610e-02,   4.93715228e-02,   1.71416923e-01],\n",
       "         [  1.38857251e-01,   3.56251891e-02,   1.17898029e-01],\n",
       "         [  2.07032060e-02,   4.19257832e-02,   5.32560343e-02],\n",
       "         [  3.69666663e-01,   1.58913363e-01,   2.09007547e-01]],\n",
       " \n",
       "        [[  3.20015830e-01,   7.14638991e-01,   1.70691794e-01],\n",
       "         [  1.57008552e-01,   6.75564390e-02,   2.88304243e-01],\n",
       "         [  3.38657649e-01,   1.12659362e-01,   3.60191612e-01],\n",
       "         [  2.60702201e-01,   2.68081701e-01,   6.22214907e-01],\n",
       "         [  2.63790600e-01,   1.90563947e-01,   3.89560363e-01]],\n",
       " \n",
       "        [[  3.20559016e-01,   2.61292453e-01,   8.60774550e-01],\n",
       "         [  3.56931499e-01,   2.44817294e-01,   4.52938658e-01],\n",
       "         [  4.60114322e-02,   9.64256663e-02,   1.03710432e-01],\n",
       "         [  4.85109371e-01,   6.18630999e-01,   1.39289462e-01],\n",
       "         [  1.16328429e-01,   8.50100700e-02,   8.26092402e-02]],\n",
       " \n",
       "        [[  2.43084196e-01,   2.98914566e-03,   6.00672041e-02],\n",
       "         [  4.71835102e-04,   1.17880637e-03,   2.46555765e-04],\n",
       "         [  3.27729082e-01,   6.62148230e-01,   8.04681529e-01],\n",
       "         [  1.00250677e-02,   2.84660843e-01,   2.52589063e-01],\n",
       "         [  1.18205918e-01,   5.23634425e-02,   1.08523389e-01]]]),\n",
       " array([[[  6.18338399e-01,   3.86436671e-02,   6.09752995e-01,\n",
       "            4.23257216e-02,   4.05462771e-02],\n",
       "         [  1.28567583e-02,   7.92352093e-03,   4.38202708e-02,\n",
       "            5.19750570e-02,   1.71144376e-01],\n",
       "         [  4.03164501e-01,   3.58404249e-01,   6.40981258e-02,\n",
       "            1.50053586e-01,   2.61054019e-01],\n",
       "         [  3.60102743e-02,   8.86742753e-02,   3.69296786e-01,\n",
       "            1.60541496e-01,   2.58758867e-01],\n",
       "         [  3.70493790e-01,   3.14772194e-04,   3.93667546e-01,\n",
       "            1.49294868e-01,   3.39485324e-02]],\n",
       " \n",
       "        [[  1.11591084e-01,   1.44571898e-02,   3.20991212e-01,\n",
       "            4.82840723e-03,   1.18470725e-01],\n",
       "         [  7.40710203e-02,   2.55547238e-02,   1.48900746e-01,\n",
       "            4.42435824e-02,   1.12215574e-01],\n",
       "         [  1.45280763e-01,   6.23020010e-01,   3.62196147e-01,\n",
       "            3.99938387e-01,   5.40617661e-01],\n",
       "         [  3.99411768e-01,   2.58022635e-01,   1.47455508e-01,\n",
       "            1.52401829e-01,   2.69814840e-01],\n",
       "         [  2.26540894e-01,   6.26353304e-04,   5.78679034e-01,\n",
       "            3.84319399e-01,   4.58332740e-02]],\n",
       " \n",
       "        [[  2.16192439e-01,   1.70426660e-03,   4.08742009e-01,\n",
       "            3.78605752e-02,   2.55036849e-02],\n",
       "         [  1.28648765e-02,   6.85589489e-02,   1.96910105e-01,\n",
       "            2.17742266e-02,   7.73395893e-02],\n",
       "         [  7.47717510e-01,   5.37480647e-01,   1.23114818e-01,\n",
       "            3.67596521e-01,   4.83728056e-01],\n",
       "         [  1.42286717e-01,   2.70849852e-01,   2.59468781e-01,\n",
       "            3.35738102e-01,   2.65952171e-01],\n",
       "         [  3.14165660e-01,   5.37111147e-04,   6.21301352e-01,\n",
       "            3.95244799e-01,   3.22872207e-02]]]))"
      ]
     },
     "execution_count": 154,
     "metadata": {},
     "output_type": "execute_result"
    }
   ],
   "source": [
    "arr11_1 = np.random.rand(5,5,3)\n",
    "arr11_2 = np.random.rand(5,5)\n",
    "arr11_3 = np.random.rand(3,5,5)\n",
    "\n",
    "ans11_1 = arr11_1 * arr11_2[:,:,np.newaxis]  #- This cannot be done\n",
    "ans11_2 = arr11_3 * arr11_2\n",
    "\n",
    "ans11_1, ans11_2"
   ]
  },
  {
   "cell_type": "markdown",
   "metadata": {},
   "source": [
    "### 12. Creating a new array\n",
    "\n",
    "Starting with an array\n",
    "\n",
    "    Z = [1,2,3,4,5,6,7,8,9,10,11,12,13,14].\n",
    "    \n",
    "Generate an array \n",
    "\n",
    "    R = [[1,2,3,4], [2,3,4,5], [3,4,5,6], ..., [11,12,13,14]]. "
   ]
  },
  {
   "cell_type": "code",
   "execution_count": 155,
   "metadata": {
    "collapsed": false
   },
   "outputs": [
    {
     "name": "stdout",
     "output_type": "stream",
     "text": [
      "R =  [[array([1, 2, 3, 4])], [array([2, 3, 4, 5])], [array([3, 4, 5, 6])], [array([4, 5, 6, 7])], [array([5, 6, 7, 8])], [array([6, 7, 8, 9])], [array([ 7,  8,  9, 10])], [array([ 8,  9, 10, 11])], [array([ 9, 10, 11, 12])], [array([10, 11, 12, 13])], [array([11, 12, 13, 14])]]\n"
     ]
    }
   ],
   "source": [
    "Z = np.array([1,2,3,4,5,6,7,8,9,10,11,12,13,14])\n",
    "R = []\n",
    "for b in range(len(Z)):\n",
    "    if b + 4 <= len(Z):\n",
    "        R.append([Z[b:b+4]])\n",
    "    else:\n",
    "        break\n",
    "    \n",
    "print \"R = \", R"
   ]
  },
  {
   "cell_type": "markdown",
   "metadata": {},
   "source": [
    "### 13. Convert from Cartesian to polar coordinates\n",
    "\n",
    "Write a function `cart2polar(xy)` which takes in an Nx2 matrix of `x, y` pairs representing Cartesian coordinates and return the locations represented in polar coordinates in the same shape matrix. The API is\n",
    "\n",
    "    Return equivalent polar coordinates of specified cartesian points.\n",
    "    \n",
    "    Inputs:\n",
    "        xy: array\n",
    "             Nx2 array of Cartesian coordinates, with columns x and y respectively.\n",
    "\n",
    "    Returns:\n",
    "        rp: array\n",
    "            Nx2 array of polar coordinates, with columns radius and angle respectively\n"
   ]
  },
  {
   "cell_type": "code",
   "execution_count": 156,
   "metadata": {
    "collapsed": true
   },
   "outputs": [],
   "source": [
    "def cart2polar(xy):\n",
    "    '''Return equivalent polar coordinates of specified cartesian points.\n",
    "\n",
    "Inputs:\n",
    "    xy: array\n",
    "         Nx2 array of Cartesian coordinates, with columns x and y respectively.\n",
    "\n",
    "Returns:\n",
    "    rp: array\n",
    "        Nx2 array of polar coordinates, with columns radius and angle respectively'''\n",
    "    \n",
    "    x, y = xy[:,0]*10,xy[:,1]*10\n",
    "    r = np.vstack(np.sqrt(x**2+y**2))\n",
    "    p = np.vstack(np.degrees(np.arctan2(y,x)))\n",
    "    rp = np.concatenate([r,p],axis=1).reshape(10,2)\n",
    "    \n",
    "    return rp"
   ]
  },
  {
   "cell_type": "code",
   "execution_count": 157,
   "metadata": {
    "collapsed": false
   },
   "outputs": [
    {
     "data": {
      "text/plain": [
       "array([[ 10.10579426,  80.84241525],\n",
       "       [  8.75880064,   7.23817022],\n",
       "       [ 12.1848765 ,  42.32339342],\n",
       "       [  4.09129196,  25.06317399],\n",
       "       [  9.52160904,  12.79370383],\n",
       "       [  5.59330501,  16.12695849],\n",
       "       [  5.25792976,   2.49167995],\n",
       "       [  9.41598815,  33.68035441],\n",
       "       [  2.04116912,  88.73382976],\n",
       "       [  2.93874303,  82.74831811]])"
      ]
     },
     "execution_count": 157,
     "metadata": {},
     "output_type": "execute_result"
    }
   ],
   "source": [
    "xy = np.random.rand(10,2)\n",
    "cart2polar(xy)"
   ]
  },
  {
   "cell_type": "markdown",
   "metadata": {},
   "source": [
    "### 14. Compute and time for loops and array operations.\n",
    "\n",
    "Calculate the time it takes to do what we did in class\n",
    "\n",
    "    a = np.arange(1024.0).reshape(4, 8, 16, 2)   # a 4D array using sequential numbers\n",
    "    b = np.random.rand(4, 8, 16, 2)              # a 4D array using random numbers\n",
    "    sol = a * b  # element-by-element multiplication. This operation is about as fast as it can be on your computer.\n",
    "\n",
    "and the time required for doing the same operation with a series of 4 `for` loops, one for each dimension of the arrays. Compare the times by calculating a ratio."
   ]
  },
  {
   "cell_type": "code",
   "execution_count": 158,
   "metadata": {
    "collapsed": false
   },
   "outputs": [],
   "source": [
    "a = np.arange(1024.0).reshape(4, 8, 16, 2)   # a 4D array using sequential numbers\n",
    "b = np.random.rand(4, 8, 16, 2)              # a 4D array using random numbers"
   ]
  },
  {
   "cell_type": "code",
   "execution_count": 159,
   "metadata": {
    "collapsed": false
   },
   "outputs": [
    {
     "data": {
      "text/plain": [
       "0.0013730525970458984"
      ]
     },
     "execution_count": 159,
     "metadata": {},
     "output_type": "execute_result"
    }
   ],
   "source": [
    "times_1 = time.time()\n",
    "sol = a * b  # element-by-element multiplication. This operation is about as fast as it can be on your computer.\n",
    "timee_1 = time.time()\n",
    "time_1 = timee_1 - times_1\n",
    "time_1"
   ]
  },
  {
   "cell_type": "code",
   "execution_count": 160,
   "metadata": {
    "collapsed": false
   },
   "outputs": [
    {
     "data": {
      "text/plain": [
       "0.0036270618438720703"
      ]
     },
     "execution_count": 160,
     "metadata": {},
     "output_type": "execute_result"
    }
   ],
   "source": [
    "times_2 = time.time()\n",
    "arr14 = np.empty_like(a)\n",
    "for l in range(a.shape[0]):\n",
    "    for k in range(a.shape[1]):\n",
    "        for j in range(a.shape[2]):\n",
    "            for i in range(a.shape[3]):\n",
    "                arr14[l,k,j,i] = a[l,k,j,i]*b[l,k,j,i]\n",
    "\n",
    "timee_2 = time.time()\n",
    "time_2 = timee_2 - times_2\n",
    "time_2"
   ]
  },
  {
   "cell_type": "code",
   "execution_count": 161,
   "metadata": {
    "collapsed": false
   },
   "outputs": [
    {
     "name": "stdout",
     "output_type": "stream",
     "text": [
      "The loop function takes 2.64160444522 times longer than array broadcasting.\n"
     ]
    }
   ],
   "source": [
    "time_ratio = time_2/time_1\n",
    "print \"The loop function takes \"+str(time_ratio)+\" times longer than array broadcasting.\""
   ]
  },
  {
   "cell_type": "markdown",
   "metadata": {},
   "source": [
    "### 15. Fix the code\n",
    "\n",
    "This code needs to be fixed so that it can run properly and pass the assertion test at the bottom. Write out what you changed to make it work and why it needed to be changed."
   ]
  },
  {
   "cell_type": "code",
   "execution_count": 165,
   "metadata": {
    "collapsed": false
   },
   "outputs": [
    {
     "name": "stdout",
     "output_type": "stream",
     "text": [
      "[[ 2.25  2.25]\n",
      " [ 2.25  2.25]\n",
      " [ 3.    3.  ]]\n"
     ]
    }
   ],
   "source": [
    "def calculate(a, b):\n",
    "    \"\"\"Do some calculations\n",
    "    \n",
    "    Take in two arrays, subtract 1/4 of the [:2,:] elements from the elements themselves.\n",
    "    Then multiply with array b and return the result.\n",
    "    \n",
    "    Inputs:\n",
    "        a: input array, shape [MxN]\n",
    "        b: input array, shape [M]\n",
    "    \n",
    "    Returns:\n",
    "        resultant array\n",
    "    \"\"\"\n",
    "\n",
    "    aa = a[:2, :]\n",
    "    aa = aa/4.\n",
    "    a[:2, :] -= aa\n",
    "\n",
    "    return a*b[:,None]\n",
    "    \n",
    "\n",
    "a = np.ones((3, 2))\n",
    "b = np.ones(3)*3\n",
    "res = calculate(a, b)\n",
    "\n",
    "print res\n",
    "\n",
    "assert (res == np.array([[ 2.25,  2.25],[ 2.25,  2.25],[ 3., 3.]])).all()"
   ]
  },
  {
   "cell_type": "markdown",
   "metadata": {},
   "source": [
    "### Answers for Question 15\n",
    "\n",
    "1. In return statement, added a second blank dimension to 'b' so that the array could be broadcast together.\n",
    "\n",
    "2. Changed \"aa /= 4.\" to \"aa = aa/4\" because before the first two rows of columns of a were being set to 0.25 as well as aa."
   ]
  },
  {
   "cell_type": "markdown",
   "metadata": {},
   "source": [
    "### 16. Calculate components of a vector\n",
    "\n",
    "Read in file `data/burl1h2010.txt`. This file gives a bunch of data from a wind station. In particular, read in the wind direction, `WDIR`, and wind speed, `WSPD`. Then, write a function that calculates and returns the `u` and `v` components of this wind vector, which point along the x- and y-axes.\n",
    "\n",
    "The function should have the following basic functionality:\n",
    "\n",
    "    Take in vector and return components.\n",
    "    \n",
    "    Inputs:\n",
    "        vdir: vector direction in degrees\n",
    "        vspd: vector magnitude\n",
    "        \n",
    "    Returns:\n",
    "        u: x component of vector\n",
    "        v: y component of vector\n"
   ]
  },
  {
   "cell_type": "code",
   "execution_count": 166,
   "metadata": {
    "collapsed": true
   },
   "outputs": [],
   "source": [
    "def windcmpt(vdir,vspd):\n",
    "    '''Take in wind vector and return components.\n",
    "\n",
    "Inputs:\n",
    "    vdir: vector direction in degrees\n",
    "    vspd: vector magnitude\n",
    "\n",
    "Returns:\n",
    "    u: x component of vector\n",
    "    v: y component of vector'''\n",
    "    \n",
    "    u = vspd*np.cos(vdir)\n",
    "    v = vspd*np.sin(vdir)\n",
    "    \n",
    "    return u,v"
   ]
  },
  {
   "cell_type": "code",
   "execution_count": 167,
   "metadata": {
    "collapsed": false
   },
   "outputs": [
    {
     "data": {
      "text/plain": [
       "(array([-1.39148661, -3.19668806, -1.21206139, ..., -9.04175518,\n",
       "         4.27262701,  7.13235823]),\n",
       " array([  2.65777445,  -1.65565257,  -3.06934964, ...,   6.94310185,\n",
       "         11.10651423,  -7.29173958]))"
      ]
     },
     "execution_count": 167,
     "metadata": {},
     "output_type": "execute_result"
    }
   ],
   "source": [
    "data = np.genfromtxt('../python4geosciences/data/burl1h2010.txt')\n",
    "wdir = data[:,5]\n",
    "wspd = data[:,6]\n",
    "windcmpt(wdir,wspd)"
   ]
  },
  {
   "cell_type": "markdown",
   "metadata": {},
   "source": [
    "### 17. (Grad) Write and use a class\n",
    "\n",
    "Consider one of the data files located in `python4geosciences/data/MCH/`. Write a class, `dataclass`, to store some of the information in the file. The class should:\n",
    "\n",
    "* be initialized with the name of the file (without file type suffix of .cnv2), and the temperature and salinity values found in the file;\n",
    "* contain a method, `salt_mean`, which returns the mean of the salinity;\n",
    "* contain a method, `temp_max`, which returns the maximum value of the temperature values.\n",
    "\n",
    "Notice that there are many data files in this directory. It would be a lot of work to read them all in by hand. Instead, write a loop which loops through the file names, reads in the necessary data, calls `dataclass` to store the data in a class instance, and adds it to a list of all of the class instances. At the end of your solution, you should have a list of all of the class instances, one for each data file.\n",
    "\n",
    "Hint: Check out the package `glob` for reading in file names with a wild card. "
   ]
  },
  {
   "cell_type": "code",
   "execution_count": 168,
   "metadata": {
    "collapsed": false
   },
   "outputs": [],
   "source": [
    "import glob"
   ]
  },
  {
   "cell_type": "code",
   "execution_count": 169,
   "metadata": {
    "collapsed": false
   },
   "outputs": [],
   "source": [
    "class dataclass(object):\n",
    "    \n",
    "    def __init__(self,name,temp,salt):\n",
    "        self.name = name\n",
    "        self.temp = temp\n",
    "        self.salt = salt\n",
    "        \n",
    "    def salt_mean(self):\n",
    "        '''Find the mean of the salinity values.'''\n",
    "        meansalt = np.mean(self.salt)\n",
    "        \n",
    "        return meansalt\n",
    "        \n",
    "    def temp_max(self):\n",
    "        '''Find the maximum of the temperature values.'''\n",
    "        maxtemp = np.max(self.temp)\n",
    "        \n",
    "        return maxtemp\n",
    "\n",
    "ob = []    \n",
    "filname = glob.glob('../python4geosciences/data/MCH/*')    \n",
    "for m in filname:\n",
    "    data = np.genfromtxt(m,skip_header=57,usecols=(2,5))\n",
    "    name = m[31:-5]\n",
    "    tem  = data[:,0]\n",
    "    sal  = data[:,1]\n",
    "    \n",
    "    ob.append(dataclass(name,tem,sal))"
   ]
  },
  {
   "cell_type": "code",
   "execution_count": 170,
   "metadata": {
    "collapsed": false
   },
   "outputs": [
    {
     "data": {
      "text/plain": [
       "35.207217999999997"
      ]
     },
     "execution_count": 170,
     "metadata": {},
     "output_type": "execute_result"
    }
   ],
   "source": [
    "ob[45].salt_mean()"
   ]
  },
  {
   "cell_type": "markdown",
   "metadata": {},
   "source": [
    "### 18. (Grad) Running mean\n",
    "\n",
    "Write a function that computes averages using a sliding window over a vector; that is, it should take in a vector and for every element in the vector, compute the average of that point with the N points on either side of the element. N should also be an input parameter, and the function should return the original vector if N=0. The returned vector should be the same size as the input vector.\n",
    "\n",
    "Do not use the `pandas` package or the function `convolve`; instead, use a loop. Use the following API for your function:\n",
    "\n",
    "    Return the running average of a vector, with averaging window of size N.\n",
    "    \n",
    "    Inputs:\n",
    "        vec: Input vector\n",
    "        N (int): Averaging window size, or number of elements to include in mean on either side of each element.\n",
    "    \n",
    "    Outputs:\n",
    "        out: Vector of running-averaged values; same size as vec\n"
   ]
  },
  {
   "cell_type": "code",
   "execution_count": 171,
   "metadata": {
    "collapsed": false
   },
   "outputs": [],
   "source": [
    "def runmean(vec,N):\n",
    "    '''Return the running average of a vector, with averaging window of size N.\n",
    "\n",
    "Inputs:\n",
    "    vec: Input vector\n",
    "    N (int): Averaging window size, or number of elements to include in mean on either side of each element.\n",
    "             If not enough values on either side, return unmodified value. if N = 0, return original vec.\n",
    "Outputs:\n",
    "    out: Vector of running-averaged values; same size as vec'''\n",
    "    rmean = []\n",
    "    for a in range(len(vec)):\n",
    "        if N == 0:\n",
    "            rmean = vec\n",
    "        else: \n",
    "            if a < N:\n",
    "                rmean = np.append(rmean,vec[a]) \n",
    "            elif a > len(vec)-N-1:\n",
    "                rmean = np.append(rmean,vec[a])\n",
    "            else:\n",
    "                rmean = np.append(rmean,np.average(vec[a-N:a+N+1]))\n",
    "    return rmean\n",
    "        \n",
    "            "
   ]
  },
  {
   "cell_type": "code",
   "execution_count": 172,
   "metadata": {
    "collapsed": false
   },
   "outputs": [
    {
     "name": "stdout",
     "output_type": "stream",
     "text": [
      "[ 98.37589756  42.81792428   0.88125494  39.56485424  40.9219669\n",
      "  66.03681253   0.56373857  25.92993299   5.66155652   3.62402091\n",
      "  29.40896712  46.44051825  91.79252156  19.18699214  22.52066443\n",
      "  12.56483271  94.04681087  43.46749446  88.24658223  64.74203225]\n"
     ]
    },
    {
     "data": {
      "text/plain": [
       "array([ 98.37589756,  42.81792428,  44.51237958,  38.04456258,\n",
       "        29.59372544,  34.60346105,  27.8228015 ,  20.3632123 ,\n",
       "        13.03764322,  22.21299916,  35.38551687,  38.090604  ,\n",
       "        41.8699327 ,  38.50110582,  48.02236434,  38.35735892,\n",
       "        52.16927694,  60.61355051,  88.24658223,  64.74203225])"
      ]
     },
     "execution_count": 172,
     "metadata": {},
     "output_type": "execute_result"
    }
   ],
   "source": [
    "arr18 = np.random.rand(20)*100\n",
    "print arr18\n",
    "runmean(arr18,2)"
   ]
  },
  {
   "cell_type": "code",
   "execution_count": null,
   "metadata": {
    "collapsed": true
   },
   "outputs": [],
   "source": []
  },
  {
   "cell_type": "code",
   "execution_count": null,
   "metadata": {
    "collapsed": true
   },
   "outputs": [],
   "source": []
  }
 ],
 "metadata": {
  "kernelspec": {
   "display_name": "Python 2",
   "language": "python",
   "name": "python2"
  },
  "language_info": {
   "codemirror_mode": {
    "name": "ipython",
    "version": 2
   },
   "file_extension": ".py",
   "mimetype": "text/x-python",
   "name": "python",
   "nbconvert_exporter": "python",
   "pygments_lexer": "ipython2",
   "version": "2.7.11"
  }
 },
 "nbformat": 4,
 "nbformat_minor": 0
}
