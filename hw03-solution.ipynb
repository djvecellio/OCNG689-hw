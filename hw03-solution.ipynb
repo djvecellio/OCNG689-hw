{
 "cells": [
  {
   "cell_type": "markdown",
   "metadata": {},
   "source": [
    "# Dan Vecellio\n",
    "\n",
    "## Homework 03\n",
    "\n",
    "### Due Tuesday, February 16th"
   ]
  },
  {
   "cell_type": "code",
   "execution_count": 2,
   "metadata": {
    "collapsed": true
   },
   "outputs": [],
   "source": [
    "import numpy as np\n",
    "import time"
   ]
  },
  {
   "cell_type": "markdown",
   "metadata": {},
   "source": [
    "### 1. Vector manipulation\n",
    "\n",
    "Create a vector of zeros of size 10 but have the fifth value be 1."
   ]
  },
  {
   "cell_type": "code",
   "execution_count": 76,
   "metadata": {
    "collapsed": false
   },
   "outputs": [
    {
     "data": {
      "text/plain": [
       "array([ 0.,  0.,  0.,  0.,  1.,  0.,  0.,  0.,  0.,  0.])"
      ]
     },
     "execution_count": 76,
     "metadata": {},
     "output_type": "execute_result"
    }
   ],
   "source": [
    "arr1 = np.zeros(10)\n",
    "arr1[4] = 1\n",
    "arr1"
   ]
  },
  {
   "cell_type": "markdown",
   "metadata": {},
   "source": [
    "### 2. Vector range\n",
    "\n",
    "Create a vector with values ranging from 10 to 49, inclusive."
   ]
  },
  {
   "cell_type": "code",
   "execution_count": 77,
   "metadata": {
    "collapsed": false
   },
   "outputs": [
    {
     "data": {
      "text/plain": [
       "array([10, 11, 12, 13, 14, 15, 16, 17, 18, 19, 20, 21, 22, 23, 24, 25, 26,\n",
       "       27, 28, 29, 30, 31, 32, 33, 34, 35, 36, 37, 38, 39, 40, 41, 42, 43,\n",
       "       44, 45, 46, 47, 48, 49])"
      ]
     },
     "execution_count": 77,
     "metadata": {},
     "output_type": "execute_result"
    }
   ],
   "source": [
    "arr2 = np.arange(10,50)\n",
    "arr2"
   ]
  },
  {
   "cell_type": "markdown",
   "metadata": {},
   "source": [
    "### 3. Reverse a vector\n",
    "\n",
    "Write a function, `reverse(x)` which reverses a vector, so that the first element becomes the last element. The API should be\n",
    "\n",
    "    return a 1D vector with the elements reversed\n",
    "    \n",
    "    Input\n",
    "    -----\n",
    "        x: 1D array\n",
    "    \n",
    "    Output\n",
    "    ------\n",
    "        res: 1D array, with the elements of `x` reversed\n",
    "\n",
    "Include this (or an equivalent description) in the function's docstring."
   ]
  },
  {
   "cell_type": "code",
   "execution_count": 78,
   "metadata": {
    "collapsed": true
   },
   "outputs": [],
   "source": [
    "def reverse(x):\n",
    "    '''return a 1D vector with the elements reversed\n",
    "\n",
    "       Input - x: 1D array\n",
    "       Output - res: 1D array, with the elements of `x` reversed'''\n",
    "    res = []\n",
    "    for a in range(len(x)-1,-1,-1):\n",
    "        res = np.append(res, x[a])\n",
    "    \n",
    "        \n",
    "    return res"
   ]
  },
  {
   "cell_type": "code",
   "execution_count": 79,
   "metadata": {
    "collapsed": false
   },
   "outputs": [
    {
     "data": {
      "text/plain": [
       "array([ 11.,  10.,   9.,   8.,   7.,   6.,   5.,   4.])"
      ]
     },
     "execution_count": 79,
     "metadata": {},
     "output_type": "execute_result"
    }
   ],
   "source": [
    "arr3 = np.arange(4,12)\n",
    "reverse(arr3)"
   ]
  },
  {
   "cell_type": "markdown",
   "metadata": {},
   "source": [
    "### 4. Find indices of non-zero elements\n",
    "\n",
    "Write a function `find_nonzero(x)` that finds the indices of non-zero elements, with an API like\n",
    "\n",
    "    return the indices of non-zero elements of an array.\n",
    "\n",
    "    Input:      x:  array\n",
    "    Output:     indices: array of integer indices\n",
    "\n",
    "Use the function to get out the non-zero elements from an array containing the elements [1,2,0,0,4,0]."
   ]
  },
  {
   "cell_type": "code",
   "execution_count": 80,
   "metadata": {
    "collapsed": true
   },
   "outputs": [],
   "source": [
    "def find_nonzero(x):\n",
    "    '''return the indices of non-zero elements of an array.\n",
    "\n",
    "        Input:      x:  array\n",
    "        Output:     indices: array of integer indices'''\n",
    "    \n",
    "    indices = []\n",
    "    for a in range(len(x)):\n",
    "        if x[a] != 0:\n",
    "            indices = np.append(indices, a)\n",
    "        else:\n",
    "            continue\n",
    "            \n",
    "    return indices"
   ]
  },
  {
   "cell_type": "code",
   "execution_count": 81,
   "metadata": {
    "collapsed": false
   },
   "outputs": [
    {
     "data": {
      "text/plain": [
       "array([ 0.,  1.,  4.])"
      ]
     },
     "execution_count": 81,
     "metadata": {},
     "output_type": "execute_result"
    }
   ],
   "source": [
    "arr4 = np.array([1,2,0,0,4,0])\n",
    "find_nonzero(arr4)"
   ]
  },
  {
   "cell_type": "markdown",
   "metadata": {},
   "source": [
    "### 5. Array with random values\n",
    "\n",
    "Create a 3x3x3 array with normally distributed ($\\mu =0, \\sigma=1)$ random values."
   ]
  },
  {
   "cell_type": "code",
   "execution_count": 82,
   "metadata": {
    "collapsed": false
   },
   "outputs": [
    {
     "data": {
      "text/plain": [
       "array([[[-0.09566371,  0.76465404,  0.13492145],\n",
       "        [ 0.40913433,  0.50632004,  1.49856647],\n",
       "        [ 1.11102049, -0.85905291, -0.19726508]],\n",
       "\n",
       "       [[-2.38825331,  0.93708289,  0.52961973],\n",
       "        [-1.19921956,  0.17090954, -0.96882051],\n",
       "        [-0.40316661,  0.20455925,  0.26002054]],\n",
       "\n",
       "       [[-0.89413285,  0.69046858, -0.5953708 ],\n",
       "        [ 0.62169374,  0.67532408, -1.0955301 ],\n",
       "        [ 0.4908666 ,  0.83690483,  0.70316257]]])"
      ]
     },
     "execution_count": 82,
     "metadata": {},
     "output_type": "execute_result"
    }
   ],
   "source": [
    "arr5 = np.random.normal(0,1,(3,3,3))\n",
    "arr5"
   ]
  },
  {
   "cell_type": "markdown",
   "metadata": {},
   "source": [
    "### 6. Operations on an array with random values\n",
    "\n",
    "Create a 10x10 array with random values. Find \n",
    "- the minimum value of the 2nd row\n",
    "- the maximum value of the 4th column"
   ]
  },
  {
   "cell_type": "code",
   "execution_count": 83,
   "metadata": {
    "collapsed": false
   },
   "outputs": [
    {
     "name": "stdout",
     "output_type": "stream",
     "text": [
      "[[ 0.98110246  0.11202623  0.8763749   0.47624748  0.52250724  0.59285406\n",
      "   0.35258999  0.79282521  0.49720563  0.97994043]\n",
      " [ 0.31172286  0.08547764  0.47226915  0.33103671  0.10954964  0.93548864\n",
      "   0.07406799  0.1471949   0.57469899  0.88477709]\n",
      " [ 0.22091562  0.02960199  0.28319703  0.24312945  0.9749858   0.66820752\n",
      "   0.45776857  0.4098503   0.33205446  0.33105255]\n",
      " [ 0.34199802  0.33348452  0.36862941  0.45047636  0.60175064  0.87122286\n",
      "   0.91683138  0.16419463  0.88231714  0.88164907]\n",
      " [ 0.41825292  0.79216407  0.13040276  0.44440577  0.82920173  0.42139573\n",
      "   0.29138379  0.74401047  0.40679651  0.39232068]\n",
      " [ 0.11981494  0.32444841  0.72410924  0.15257528  0.08154008  0.83401974\n",
      "   0.12143361  0.43369726  0.07017206  0.14215827]\n",
      " [ 0.74631     0.85471286  0.42427293  0.91513545  0.1146296   0.53676226\n",
      "   0.63987467  0.78990376  0.41099994  0.21914043]\n",
      " [ 0.24880854  0.81078877  0.22409615  0.6591763   0.50958066  0.93557694\n",
      "   0.20477264  0.39263458  0.44164913  0.7110555 ]\n",
      " [ 0.13767854  0.08911459  0.83916455  0.64756739  0.82287952  0.26871797\n",
      "   0.46012751  0.1194632   0.48802618  0.78566639]\n",
      " [ 0.41153856  0.00897719  0.54509698  0.16582471  0.25405922  0.09162451\n",
      "   0.72719149  0.35596622  0.40408817  0.30794934]]\n",
      "The minimum value of the 2nd row is 0.0740679854561\n",
      "The maximum value of the 4th column is 0.915135446076\n"
     ]
    }
   ],
   "source": [
    "arr6 = np.random.rand(10,10)\n",
    "arr6_min = np.min(arr6[1,:])\n",
    "arr6_max = np.max(arr6[:,3])\n",
    "\n",
    "print arr6\n",
    "print \"The minimum value of the 2nd row is \"+str(arr6_min)+''\n",
    "print \"The maximum value of the 4th column is \"+str(arr6_max)+''"
   ]
  },
  {
   "cell_type": "markdown",
   "metadata": {},
   "source": [
    "### 7. Vector without end points\n",
    "\n",
    "Create a vector of size 10 with values ranging from 0 to 1, both excluded."
   ]
  },
  {
   "cell_type": "code",
   "execution_count": 84,
   "metadata": {
    "collapsed": false
   },
   "outputs": [
    {
     "data": {
      "text/plain": [
       "array([ 0.09090909,  0.18181818,  0.27272727,  0.36363636,  0.45454545,\n",
       "        0.54545455,  0.63636364,  0.72727273,  0.81818182,  0.90909091])"
      ]
     },
     "execution_count": 84,
     "metadata": {},
     "output_type": "execute_result"
    }
   ],
   "source": [
    "arr7 = np.linspace(0,1,12)[1:-1]\n",
    "arr7"
   ]
  },
  {
   "cell_type": "markdown",
   "metadata": {},
   "source": [
    "### 8. Sorted random vector\n",
    "\n",
    "Create a random vector of size 10, then sort it."
   ]
  },
  {
   "cell_type": "code",
   "execution_count": 85,
   "metadata": {
    "collapsed": false
   },
   "outputs": [
    {
     "data": {
      "text/plain": [
       "array([ 0.03731024,  0.08553586,  0.47312818,  0.59286983,  0.62353047,\n",
       "        0.66738605,  0.80311725,  0.84316032,  0.85108355,  0.97555293])"
      ]
     },
     "execution_count": 85,
     "metadata": {},
     "output_type": "execute_result"
    }
   ],
   "source": [
    "arr8 = np.sort(np.random.rand(10))\n",
    "arr8"
   ]
  },
  {
   "cell_type": "markdown",
   "metadata": {},
   "source": [
    "### 9. Test for array equality\n",
    "\n",
    "Write a function `is_equal(A, B)` that compare two arrays `A` and `B` and checks to see if they are equal. \n",
    "\n",
    "    return True if two arrays are the same shape and all the elements are equal.\n",
    "    \n",
    "    Inputs:\n",
    "        A, B:  array\n",
    "    Output:\n",
    "        Bool:  True if A and B have the same shape and identical elements.\n",
    "\n",
    "The arrays count as equal if they are the same shape and all elements in the array are equal."
   ]
  },
  {
   "cell_type": "code",
   "execution_count": 132,
   "metadata": {
    "collapsed": true
   },
   "outputs": [],
   "source": [
    "def is_equal(A, B):\n",
    "    '''return True if two arrays are the same shape and all the elements are equal.\n",
    "\n",
    "    Inputs - A, B:  array\n",
    "    Output - Bool:  True if A and B have the same shape and identical elements.'''\n",
    "    \n",
    "    if A.shape != B.shape:\n",
    "        return False\n",
    "    return bool(np.asarray(A == B).all())"
   ]
  },
  {
   "cell_type": "code",
   "execution_count": 135,
   "metadata": {
    "collapsed": false
   },
   "outputs": [
    {
     "data": {
      "text/plain": [
       "False"
      ]
     },
     "execution_count": 135,
     "metadata": {},
     "output_type": "execute_result"
    }
   ],
   "source": [
    "arr9_1 = np.array([5,4,3])\n",
    "arr9_2 = np.random.rand(5)\n",
    "arr9_3 = arr9_2.copy()\n",
    "is_equal(arr9_1,arr9_2)"
   ]
  },
  {
   "cell_type": "markdown",
   "metadata": {},
   "source": [
    "### 10. Subtract the row mean from rows of a matrix\n",
    "\n",
    "Create a matrix. Then subtract the mean of each row of the matrix from the respective row. Do this without using a loop (that is, using array operations)."
   ]
  },
  {
   "cell_type": "code",
   "execution_count": 15,
   "metadata": {
    "collapsed": false
   },
   "outputs": [
    {
     "name": "stdout",
     "output_type": "stream",
     "text": [
      "(4, 5)\n",
      "(4, 1)\n",
      "[[ 0.47249486 -0.40483921 -0.24449489 -0.2647217   0.44156094]\n",
      " [-0.16473562 -0.40154648  0.42261581 -0.07325589  0.21692218]\n",
      " [-0.43697195  0.25360043  0.25508569 -0.33468472  0.26297055]\n",
      " [ 0.43841684 -0.3363533   0.25602173 -0.10039166 -0.2576936 ]]\n"
     ]
    }
   ],
   "source": [
    "arr10 = np.random.rand(4,5)\n",
    "arr10_anom = arr10 - arr10.mean(axis=1)[:,np.newaxis]\n",
    "print arr10.shape\n",
    "print arr10.mean(axis=1)[:,np.newaxis].shape\n",
    "print arr10_anom"
   ]
  },
  {
   "cell_type": "markdown",
   "metadata": {},
   "source": [
    "### 11. Multiply arrays\n",
    "\n",
    "Multiply an array of dimension (5,5,3) with an array with dimensions (5,5). Then multiply an array of dimension (3,5,5) with an array of dimension (5,5)."
   ]
  },
  {
   "cell_type": "code",
   "execution_count": 109,
   "metadata": {
    "collapsed": false
   },
   "outputs": [
    {
     "data": {
      "text/plain": [
       "(array([[[ 0.08411471,  0.33056255,  0.25028535],\n",
       "         [ 0.15405274,  0.09444573,  0.49371572],\n",
       "         [ 0.64491637,  0.27621288,  0.79019703],\n",
       "         [ 0.36406926,  0.24014763,  0.09988621],\n",
       "         [ 0.20642114,  0.31646436,  0.53124633]],\n",
       " \n",
       "        [[ 0.01377523,  0.23812637,  0.19442845],\n",
       "         [ 0.63894488,  0.54486725,  0.42306204],\n",
       "         [ 0.18996443,  0.19188635,  0.04086526],\n",
       "         [ 0.17865891,  0.01329058,  0.2553166 ],\n",
       "         [ 0.48076661,  0.40833895,  0.4148283 ]],\n",
       " \n",
       "        [[ 0.07237804,  0.23229387,  0.12234457],\n",
       "         [ 0.24233979,  0.36154717,  0.29055156],\n",
       "         [ 0.67488392,  0.18321007,  0.29822695],\n",
       "         [ 0.05720759,  0.42215954,  0.15561196],\n",
       "         [ 0.03504397,  0.05810113,  0.02597068]],\n",
       " \n",
       "        [[ 0.01602339,  0.11897982,  0.08950294],\n",
       "         [ 0.00611831,  0.51221806,  0.29693042],\n",
       "         [ 0.41234738,  0.55783678,  0.48656195],\n",
       "         [ 0.58394592,  0.43001105,  0.27447353],\n",
       "         [ 0.27467732,  0.02781386,  0.10582799]],\n",
       " \n",
       "        [[ 0.52892134,  0.33098201,  0.53642976],\n",
       "         [ 0.32273593,  0.28658018,  0.31280993],\n",
       "         [ 0.10650109,  0.34082553,  0.30168565],\n",
       "         [ 0.35077436,  0.24535798,  0.51347598],\n",
       "         [ 0.31163866,  0.47008193,  0.56322665]]]),\n",
       " array([[[ 0.24413901,  0.56282493,  0.42750877,  0.28721571,  0.31767252],\n",
       "         [ 0.08477884,  0.30822145,  0.22742121,  0.23206616,  0.38136399],\n",
       "         [ 0.17991504,  0.11863661,  0.23417556,  0.23742755,  0.09752241],\n",
       "         [ 0.1018959 ,  0.078736  ,  0.27022254,  0.49231235,  0.1921887 ],\n",
       "         [ 0.15980729,  0.39802115,  0.15407369,  0.56038153,  0.38037814]],\n",
       " \n",
       "        [[ 0.31957618,  0.10958975,  0.70584147,  0.09173935,  0.76039047],\n",
       "         [ 0.00696091,  0.88573212,  0.12424381,  0.07957989,  0.29296586],\n",
       "         [ 0.05601366,  0.26797833,  0.53007444,  0.52383228,  0.10072213],\n",
       "         [ 0.10710492,  0.1087183 ,  0.41748016,  0.28822632,  0.102447  ],\n",
       "         [ 0.40600088,  0.17293562,  0.81634736,  0.45863747,  0.8538276 ]],\n",
       " \n",
       "        [[ 0.23010396,  0.44232878,  0.25713041,  0.11762409,  0.48991851],\n",
       "         [ 0.08026353,  0.12345831,  0.20789381,  0.02333434,  0.1930199 ],\n",
       "         [ 0.33997353,  0.15099735,  0.58400009,  0.49337785,  0.03114244],\n",
       "         [ 0.1067714 ,  0.2523199 ,  0.32011525,  0.3975362 ,  0.10778311],\n",
       "         [ 0.46940434,  0.02974431,  0.77512593,  0.32439839,  0.88186563]]]))"
      ]
     },
     "execution_count": 109,
     "metadata": {},
     "output_type": "execute_result"
    }
   ],
   "source": [
    "arr11_1 = np.random.rand(5,5,3)\n",
    "arr11_2 = np.random.rand(5,5)\n",
    "arr11_3 = np.random.rand(3,5,5)\n",
    "\n",
    "ans11_1 = arr11_1 * arr11_2[:,:,np.newaxis]  #- This cannot be done\n",
    "ans11_2 = arr11_3 * arr11_2\n",
    "\n",
    "ans11_1, ans11_2"
   ]
  },
  {
   "cell_type": "markdown",
   "metadata": {},
   "source": [
    "### 12. Creating a new array\n",
    "\n",
    "Starting with an array\n",
    "\n",
    "    Z = [1,2,3,4,5,6,7,8,9,10,11,12,13,14].\n",
    "    \n",
    "Generate an array \n",
    "\n",
    "    R = [[1,2,3,4], [2,3,4,5], [3,4,5,6], ..., [11,12,13,14]]. "
   ]
  },
  {
   "cell_type": "code",
   "execution_count": 110,
   "metadata": {
    "collapsed": false
   },
   "outputs": [
    {
     "name": "stdout",
     "output_type": "stream",
     "text": [
      "R =  [[array([1, 2, 3, 4])], [array([2, 3, 4, 5])], [array([3, 4, 5, 6])], [array([4, 5, 6, 7])], [array([5, 6, 7, 8])], [array([6, 7, 8, 9])], [array([ 7,  8,  9, 10])], [array([ 8,  9, 10, 11])], [array([ 9, 10, 11, 12])], [array([10, 11, 12, 13])], [array([11, 12, 13, 14])]]\n"
     ]
    }
   ],
   "source": [
    "Z = np.array([1,2,3,4,5,6,7,8,9,10,11,12,13,14])\n",
    "R = []\n",
    "for b in range(len(Z)):\n",
    "    if b + 4 <= len(Z):\n",
    "        R.append([Z[b:b+4]])\n",
    "    else:\n",
    "        break\n",
    "    \n",
    "print \"R = \", R"
   ]
  },
  {
   "cell_type": "markdown",
   "metadata": {},
   "source": [
    "### 13. Convert from Cartesian to polar coordinates\n",
    "\n",
    "Write a function `cart2polar(xy)` which takes in an Nx2 matrix of `x, y` pairs representing Cartesian coordinates and return the locations represented in polar coordinates in the same shape matrix. The API is\n",
    "\n",
    "    Return equivalent polar coordinates of specified cartesian points.\n",
    "    \n",
    "    Inputs:\n",
    "        xy: array\n",
    "             Nx2 array of Cartesian coordinates, with columns x and y respectively.\n",
    "\n",
    "    Returns:\n",
    "        rp: array\n",
    "            Nx2 array of polar coordinates, with columns radius and angle respectively\n"
   ]
  },
  {
   "cell_type": "code",
   "execution_count": 113,
   "metadata": {
    "collapsed": true
   },
   "outputs": [],
   "source": [
    "def cart2polar(xy):\n",
    "    '''Return equivalent polar coordinates of specified cartesian points.\n",
    "\n",
    "Inputs:\n",
    "    xy: array\n",
    "         Nx2 array of Cartesian coordinates, with columns x and y respectively.\n",
    "\n",
    "Returns:\n",
    "    rp: array\n",
    "        Nx2 array of polar coordinates, with columns radius and angle respectively'''\n",
    "    \n",
    "    x, y = xy[:,0]*10,xy[:,1]*10\n",
    "    r = np.vstack(np.sqrt(x**2+y**2))\n",
    "    p = np.vstack(np.degrees(np.arctan2(y,x)))\n",
    "    rp = np.concatenate([r,p],axis=1).reshape(10,2)\n",
    "    \n",
    "    return rp"
   ]
  },
  {
   "cell_type": "code",
   "execution_count": 114,
   "metadata": {
    "collapsed": false
   },
   "outputs": [
    {
     "data": {
      "text/plain": [
       "array([[  8.23143272,  77.55909367],\n",
       "       [  2.54697082,  30.04507106],\n",
       "       [  6.42594651,  81.38881925],\n",
       "       [  6.64112818,  20.26471703],\n",
       "       [ 11.77789421,  33.82923918],\n",
       "       [  7.91671579,  87.19706916],\n",
       "       [ 10.55735614,  69.55366194],\n",
       "       [ 12.76628215,  45.62308452],\n",
       "       [  5.0653869 ,   1.36609271],\n",
       "       [ 11.61147337,  41.07584234]])"
      ]
     },
     "execution_count": 114,
     "metadata": {},
     "output_type": "execute_result"
    }
   ],
   "source": [
    "xy = np.random.rand(10,2)\n",
    "cart2polar(xy)"
   ]
  },
  {
   "cell_type": "markdown",
   "metadata": {},
   "source": [
    "### 14. Compute and time for loops and array operations.\n",
    "\n",
    "Calculate the time it takes to do what we did in class\n",
    "\n",
    "    a = np.arange(1024.0).reshape(4, 8, 16, 2)   # a 4D array using sequential numbers\n",
    "    b = np.random.rand(4, 8, 16, 2)              # a 4D array using random numbers\n",
    "    sol = a * b  # element-by-element multiplication. This operation is about as fast as it can be on your computer.\n",
    "\n",
    "and the time required for doing the same operation with a series of 4 `for` loops, one for each dimension of the arrays. Compare the times by calculating a ratio."
   ]
  },
  {
   "cell_type": "code",
   "execution_count": 115,
   "metadata": {
    "collapsed": false
   },
   "outputs": [],
   "source": [
    "a = np.arange(1024.0).reshape(4, 8, 16, 2)   # a 4D array using sequential numbers\n",
    "b = np.random.rand(4, 8, 16, 2)              # a 4D array using random numbers"
   ]
  },
  {
   "cell_type": "code",
   "execution_count": 116,
   "metadata": {
    "collapsed": false
   },
   "outputs": [
    {
     "data": {
      "text/plain": [
       "0.0002200603485107422"
      ]
     },
     "execution_count": 116,
     "metadata": {},
     "output_type": "execute_result"
    }
   ],
   "source": [
    "times_1 = time.time()\n",
    "sol = a * b  # element-by-element multiplication. This operation is about as fast as it can be on your computer.\n",
    "timee_1 = time.time()\n",
    "time_1 = timee_1 - times_1\n",
    "time_1"
   ]
  },
  {
   "cell_type": "code",
   "execution_count": 117,
   "metadata": {
    "collapsed": false
   },
   "outputs": [
    {
     "data": {
      "text/plain": [
       "0.0030231475830078125"
      ]
     },
     "execution_count": 117,
     "metadata": {},
     "output_type": "execute_result"
    }
   ],
   "source": [
    "times_2 = time.time()\n",
    "arr14 = np.empty_like(a)\n",
    "for l in range(a.shape[0]):\n",
    "    for k in range(a.shape[1]):\n",
    "        for j in range(a.shape[2]):\n",
    "            for i in range(a.shape[3]):\n",
    "                arr14[l,k,j,i] = a[l,k,j,i]*b[l,k,j,i]\n",
    "\n",
    "timee_2 = time.time()\n",
    "time_2 = timee_2 - times_2\n",
    "time_2"
   ]
  },
  {
   "cell_type": "code",
   "execution_count": 118,
   "metadata": {
    "collapsed": false
   },
   "outputs": [
    {
     "name": "stdout",
     "output_type": "stream",
     "text": [
      "The loop function takes 13.7378114843 times longer than array broadcasting.\n"
     ]
    }
   ],
   "source": [
    "time_ratio = time_2/time_1\n",
    "print \"The loop function takes \"+str(time_ratio)+\" times longer than array broadcasting.\""
   ]
  },
  {
   "cell_type": "markdown",
   "metadata": {},
   "source": [
    "### 15. Fix the code\n",
    "\n",
    "This code needs to be fixed so that it can run properly and pass the assertion test at the bottom. Write out what you changed to make it work and why it needed to be changed."
   ]
  },
  {
   "cell_type": "code",
   "execution_count": 119,
   "metadata": {
    "collapsed": false
   },
   "outputs": [
    {
     "name": "stdout",
     "output_type": "stream",
     "text": [
      "[[ 1.  1.]\n",
      " [ 1.  1.]]\n",
      "[[ 0.25  0.25]\n",
      " [ 0.25  0.25]]\n",
      "[[ 1.  1.]\n",
      " [ 1.  1.]\n",
      " [ 1.  1.]]\n",
      "[[ 0.75  0.75]\n",
      " [ 0.75  0.75]\n",
      " [ 1.    1.  ]]\n"
     ]
    },
    {
     "data": {
      "text/plain": [
       "array([[ 2.25,  2.25],\n",
       "       [ 2.25,  2.25],\n",
       "       [ 3.  ,  3.  ]])"
      ]
     },
     "execution_count": 119,
     "metadata": {},
     "output_type": "execute_result"
    }
   ],
   "source": [
    "def calculate(a, b):\n",
    "    \"\"\"Do some calculations\n",
    "    \n",
    "    Take in two arrays, subtract 1/4 of the [:2,:] elements from the elements themselves.\n",
    "    Then multiply with array b and return the result.\n",
    "    \n",
    "    Inputs:\n",
    "        a: input array, shape [MxN]\n",
    "        b: input array, shape [M]\n",
    "    \n",
    "    Returns:\n",
    "        resultant array\n",
    "    \"\"\"\n",
    "\n",
    "    aa = a[:2, :]\n",
    "    print aa\n",
    "    aa = aa/4.\n",
    "    print aa\n",
    "    print a\n",
    "    a[:2, :] -= aa\n",
    "    print a\n",
    "\n",
    "    return a*b[:,None]\n",
    "    \n",
    "\n",
    "a = np.ones((3, 2))\n",
    "b = np.ones(3)*3\n",
    "res = calculate(a, b)\n",
    "\n",
    "res\n",
    "\n",
    "#assert (res == np.array([[ 2.25,  2.25],[ 2.25,  2.25],[ 3., 3.]])).all()"
   ]
  },
  {
   "cell_type": "markdown",
   "metadata": {},
   "source": [
    "### Answers for Question 15\n",
    "\n",
    "1. In return statement, added a second blank dimension to 'b' so that the array could be broadcast together.\n",
    "\n",
    "2. Changed \"aa /= 4.\" to \"aa = aa/4\" because before the first two rows of columns of a were being set to 0.25 as well as aa."
   ]
  },
  {
   "cell_type": "markdown",
   "metadata": {},
   "source": [
    "### 16. Calculate components of a vector\n",
    "\n",
    "Read in file `data/burl1h2010.txt`. This file gives a bunch of data from a wind station. In particular, read in the wind direction, `WDIR`, and wind speed, `WSPD`. Then, write a function that calculates and returns the `u` and `v` components of this wind vector, which point along the x- and y-axes.\n",
    "\n",
    "The function should have the following basic functionality:\n",
    "\n",
    "    Take in vector and return components.\n",
    "    \n",
    "    Inputs:\n",
    "        vdir: vector direction in degrees\n",
    "        vspd: vector magnitude\n",
    "        \n",
    "    Returns:\n",
    "        u: x component of vector\n",
    "        v: y component of vector\n"
   ]
  },
  {
   "cell_type": "code",
   "execution_count": 120,
   "metadata": {
    "collapsed": true
   },
   "outputs": [],
   "source": [
    "def windcmpt(vdir,vspd):\n",
    "    '''Take in wind vector and return components.\n",
    "\n",
    "Inputs:\n",
    "    vdir: vector direction in degrees\n",
    "    vspd: vector magnitude\n",
    "\n",
    "Returns:\n",
    "    u: x component of vector\n",
    "    v: y component of vector'''\n",
    "    \n",
    "    u = vspd*np.cos(vdir)\n",
    "    v = vspd*np.sin(vdir)\n",
    "    \n",
    "    return u,v"
   ]
  },
  {
   "cell_type": "code",
   "execution_count": 121,
   "metadata": {
    "collapsed": false
   },
   "outputs": [
    {
     "data": {
      "text/plain": [
       "(array([-1.39148661, -3.19668806, -1.21206139, ..., -9.04175518,\n",
       "         4.27262701,  7.13235823]),\n",
       " array([  2.65777445,  -1.65565257,  -3.06934964, ...,   6.94310185,\n",
       "         11.10651423,  -7.29173958]))"
      ]
     },
     "execution_count": 121,
     "metadata": {},
     "output_type": "execute_result"
    }
   ],
   "source": [
    "data = np.genfromtxt('../python4geosciences/data/burl1h2010.txt')\n",
    "wdir = data[:,5]\n",
    "wspd = data[:,6]\n",
    "windcmpt(wdir,wspd)"
   ]
  },
  {
   "cell_type": "markdown",
   "metadata": {},
   "source": [
    "### 17. (Grad) Write and use a class\n",
    "\n",
    "Consider one of the data files located in `python4geosciences/data/MCH/`. Write a class, `dataclass`, to store some of the information in the file. The class should:\n",
    "\n",
    "* be initialized with the name of the file (without file type suffix of .cnv2), and the temperature and salinity values found in the file;\n",
    "* contain a method, `salt_mean`, which returns the mean of the salinity;\n",
    "* contain a method, `temp_max`, which returns the maximum value of the temperature values.\n",
    "\n",
    "Notice that there are many data files in this directory. It would be a lot of work to read them all in by hand. Instead, write a loop which loops through the file names, reads in the necessary data, calls `dataclass` to store the data in a class instance, and adds it to a list of all of the class instances. At the end of your solution, you should have a list of all of the class instances, one for each data file.\n",
    "\n",
    "Hint: Check out the package `glob` for reading in file names with a wild card. "
   ]
  },
  {
   "cell_type": "code",
   "execution_count": 122,
   "metadata": {
    "collapsed": false
   },
   "outputs": [],
   "source": [
    "import glob"
   ]
  },
  {
   "cell_type": "code",
   "execution_count": 123,
   "metadata": {
    "collapsed": false
   },
   "outputs": [],
   "source": [
    "class dataclass(object):\n",
    "    \n",
    "    def __init__(self,name,temp,salt):\n",
    "        self.name = name\n",
    "        self.temp = temp\n",
    "        self.salt = salt\n",
    "        \n",
    "    def salt_mean(self):\n",
    "        '''Find the mean of the salinity values.'''\n",
    "        meansalt = np.mean(self.salt)\n",
    "        \n",
    "        return meansalt\n",
    "        \n",
    "    def temp_max(self):\n",
    "        '''Find the maximum of the temperature values.'''\n",
    "        maxtemp = np.max(self.temp)\n",
    "        \n",
    "        return maxtemp\n",
    "\n",
    "ob = []    \n",
    "filname = glob.glob('../python4geosciences/data/MCH/*')    \n",
    "for m in filname:\n",
    "    data = np.genfromtxt(m,skip_header=57,usecols=(2,5))\n",
    "    name = m[31:-5]\n",
    "    tem  = data[:,0]\n",
    "    sal  = data[:,1]\n",
    "    \n",
    "    ob.append(dataclass(name,tem,sal))"
   ]
  },
  {
   "cell_type": "code",
   "execution_count": 124,
   "metadata": {
    "collapsed": false
   },
   "outputs": [
    {
     "data": {
      "text/plain": [
       "'m1017c'"
      ]
     },
     "execution_count": 124,
     "metadata": {},
     "output_type": "execute_result"
    }
   ],
   "source": [
    "ob[45].name"
   ]
  },
  {
   "cell_type": "markdown",
   "metadata": {},
   "source": [
    "### 18. (Grad) Running mean\n",
    "\n",
    "Write a function that computes averages using a sliding window over a vector; that is, it should take in a vector and for every element in the vector, compute the average of that point with the N points on either side of the element. N should also be an input parameter, and the function should return the original vector if N=0. The returned vector should be the same size as the input vector.\n",
    "\n",
    "Do not use the `pandas` package or the function `convolve`; instead, use a loop. Use the following API for your function:\n",
    "\n",
    "    Return the running average of a vector, with averaging window of size N.\n",
    "    \n",
    "    Inputs:\n",
    "        vec: Input vector\n",
    "        N (int): Averaging window size, or number of elements to include in mean on either side of each element.\n",
    "    \n",
    "    Outputs:\n",
    "        out: Vector of running-averaged values; same size as vec\n"
   ]
  },
  {
   "cell_type": "code",
   "execution_count": 125,
   "metadata": {
    "collapsed": false
   },
   "outputs": [],
   "source": [
    "def runmean(vec,N):\n",
    "    '''Return the running average of a vector, with averaging window of size N.\n",
    "\n",
    "Inputs:\n",
    "    vec: Input vector\n",
    "    N (int): Averaging window size, or number of elements to include in mean on either side of each element.\n",
    "             If not enough values on either side, return unmodified value. if N = 0, return original vec.\n",
    "Outputs:\n",
    "    out: Vector of running-averaged values; same size as vec'''\n",
    "    rmean = []\n",
    "    for a in range(len(vec)):\n",
    "        if N == 0:\n",
    "            rmean = vec\n",
    "        else: \n",
    "            if a < N:\n",
    "                rmean = np.append(rmean,vec[a]) \n",
    "            elif a > len(vec)-N-1:\n",
    "                rmean = np.append(rmean,vec[a])\n",
    "            else:\n",
    "                rmean = np.append(rmean,np.average(vec[a-N:a+N+1]))\n",
    "    return rmean\n",
    "        \n",
    "            "
   ]
  },
  {
   "cell_type": "code",
   "execution_count": 126,
   "metadata": {
    "collapsed": false
   },
   "outputs": [
    {
     "name": "stdout",
     "output_type": "stream",
     "text": [
      "[ 57.82805969  65.28973648  21.07878342  24.20454475  29.4415283\n",
      "  46.80325395  28.32661573  19.94498898  12.17365718  72.33452382\n",
      "  21.1631184   19.87698143   9.50204675  90.44498532  85.73018333\n",
      "  13.21211716  54.06544059  88.35311071  47.99472988   3.56234744]\n"
     ]
    },
    {
     "data": {
      "text/plain": [
       "array([ 57.82805969,  65.28973648,  39.56853053,  37.36356938,\n",
       "        29.97094523,  29.74418634,  27.33800883,  35.91660793,\n",
       "        30.78858082,  29.09865396,  27.01006552,  42.66433114,\n",
       "        45.34346304,  43.7532628 ,  50.59095463,  66.36116742,\n",
       "        57.87111633,  41.43754916,  47.99472988,   3.56234744])"
      ]
     },
     "execution_count": 126,
     "metadata": {},
     "output_type": "execute_result"
    }
   ],
   "source": [
    "arr18 = np.random.rand(20)*100\n",
    "print arr18\n",
    "runmean(arr18,2)"
   ]
  },
  {
   "cell_type": "code",
   "execution_count": null,
   "metadata": {
    "collapsed": true
   },
   "outputs": [],
   "source": []
  },
  {
   "cell_type": "code",
   "execution_count": null,
   "metadata": {
    "collapsed": true
   },
   "outputs": [],
   "source": []
  }
 ],
 "metadata": {
  "kernelspec": {
   "display_name": "Python 2",
   "language": "python",
   "name": "python2"
  },
  "language_info": {
   "codemirror_mode": {
    "name": "ipython",
    "version": 2
   },
   "file_extension": ".py",
   "mimetype": "text/x-python",
   "name": "python",
   "nbconvert_exporter": "python",
   "pygments_lexer": "ipython2",
   "version": "2.7.11"
  }
 },
 "nbformat": 4,
 "nbformat_minor": 0
}
